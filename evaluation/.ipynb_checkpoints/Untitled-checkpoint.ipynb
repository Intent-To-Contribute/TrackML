{
 "cells": [
  {
   "cell_type": "code",
   "execution_count": 1,
   "metadata": {
    "collapsed": true
   },
   "outputs": [],
   "source": [
    "from utils import find_nearest_hit, scan_voxels_for_hits, sort_tracks\n",
    "import os\n",
    "import sys\n",
    "import numpy as np\n",
    "import matplotlib.pyplot as plt\n",
    "from trackml.dataset import load_event\n",
    "from trackml.score import score_event\n",
    "import pdb\n",
    "import pandas as pd\n",
    "import csv\n",
    "\n",
    "### load data ###\n",
    "hits, cells, particles, truth = load_event('../../Data/train_100_events/event000001052')\n",
    "\n",
    "true_tracks = np.load(\"../port_toy/all_tracks.npy\")"
   ]
  },
  {
   "cell_type": "code",
   "execution_count": 4,
   "metadata": {},
   "outputs": [
    {
     "name": "stdout",
     "output_type": "stream",
     "text": [
      "finished creating voxels\n"
     ]
    }
   ],
   "source": [
    "## find min/max of x,y,z ##\n",
    "xMax = -sys.maxsize\n",
    "yMax = -sys.maxsize\n",
    "zMax = -sys.maxsize\n",
    "xMin = sys.maxsize\n",
    "yMin = sys.maxsize\n",
    "zMin = sys.maxsize\n",
    "for track in true_tracks:\n",
    "    for hit in track:\n",
    "        if (xMax < hit[2]): xMax = hit[2]\n",
    "        if (yMax < hit[3]): yMax = hit[3]\n",
    "        if (zMax < hit[4]): zMax = hit[4]\n",
    "        if (xMin > hit[2]): xMin = hit[2]\n",
    "        if (yMin > hit[3]): yMin = hit[3]\n",
    "        if (zMin > hit[4]): zMin = hit[4]\n",
    "\n",
    "## creating voxels ##\n",
    "hits = np.asarray(hits)\n",
    "xRange = xMax - xMin\n",
    "yRange = yMax - yMin\n",
    "zRange = zMax - zMin\n",
    "n = 150\n",
    "voxels = np.zeros((n+1,n+1,n+1), dtype=object)\n",
    "\n",
    "for hit in hits:\n",
    "    xHit = hit[1]\n",
    "    yHit = hit[2]\n",
    "    zHit = hit[3]\n",
    "    i = int(n * ((xHit - xMin) / xRange))\n",
    "    j = int(n * ((yHit - yMin) / yRange))\n",
    "    k = int(n * ((zHit - zMin) / zRange))\n",
    "    if voxels[i][j][k] == 0:\n",
    "        voxels[i][j][k] = []\n",
    "    voxels[i][j][k].append(hit)\n",
    "\n",
    "print(\"finished creating voxels\")"
   ]
  },
  {
   "cell_type": "code",
   "execution_count": 10,
   "metadata": {},
   "outputs": [
    {
     "name": "stdout",
     "output_type": "stream",
     "text": [
      "starting with 9146 seed hits\n"
     ]
    }
   ],
   "source": [
    "### seeds ###\n",
    "seed_file = open(\"SeedCandidates.txt\", \"r\")\n",
    "our_tracks = []\n",
    "seed_hits = []\n",
    "for seed_id in seed_file:\n",
    "    seed_id = int(float(seed_id.strip()))\n",
    "    seed_hit = hits[hits[:,0] == seed_id][0]\n",
    "    our_tracks.append([int(seed_hit[0])])\n",
    "    seed_hits.append(seed_hit)\n",
    "\n",
    "# print(our_tracks)\n",
    "print(\"starting with \" + str(len(seed_hits)) + \" seed hits\")\n"
   ]
  },
  {
   "cell_type": "code",
   "execution_count": 11,
   "metadata": {
    "collapsed": true
   },
   "outputs": [],
   "source": [
    "x = []\n",
    "for seed_hit in seed_hits:\n",
    "    input_vector = np.zeros((18, 3))\n",
    "    input_vector[17] = seed_hit[1:4]\n",
    "    x.append(input_vector)"
   ]
  },
  {
   "cell_type": "code",
   "execution_count": 12,
   "metadata": {},
   "outputs": [
    {
     "name": "stdout",
     "output_type": "stream",
     "text": [
      "_________________________________________________________________\n",
      "Layer (type)                 Output Shape              Param #   \n",
      "=================================================================\n",
      "lstm_1 (LSTM)                (None, 500)               1008000   \n",
      "_________________________________________________________________\n",
      "dense_1 (Dense)              (None, 3)                 1503      \n",
      "_________________________________________________________________\n",
      "activation_1 (Activation)    (None, 3)                 0         \n",
      "=================================================================\n",
      "Total params: 1,009,503\n",
      "Trainable params: 1,009,503\n",
      "Non-trainable params: 0\n",
      "_________________________________________________________________\n",
      "None\n"
     ]
    }
   ],
   "source": [
    "## predict the next point ##\n",
    "import tensorflow as tensorflow\n",
    "import keras\n",
    "from keras.models import load_model\n",
    "\n",
    "## Import the stopping model\n",
    "stopping_model = load_model(\"final_classifier.keras\")\n",
    "    \n",
    "x = np.asarray(x)\n",
    "model = load_model(\"3in_3out.keras\")\n",
    "print(model.summary())\n",
    "if not os.path.exists(\"guesses_2.npy\"):\n",
    "    y = model.predict(x)\n",
    "    print(\"finished predicting next hits\")\n",
    "    np.save(\"guesses_2.npy\", y)\n",
    "else:\n",
    "    y = np.load(\"guesses_2.npy\")"
   ]
  },
  {
   "cell_type": "code",
   "execution_count": 13,
   "metadata": {},
   "outputs": [
    {
     "name": "stdout",
     "output_type": "stream",
     "text": [
      "0/9146\n",
      "(111, 7)\n",
      "1000/9146\n",
      "(206, 7)\n",
      "2000/9146\n",
      "(21, 7)\n",
      "3000/9146\n",
      "(58, 7)\n",
      "4000/9146\n",
      "(59, 7)\n",
      "5000/9146\n",
      "(54, 7)\n",
      "6000/9146\n",
      "(47, 7)\n",
      "7000/9146\n",
      "(12, 7)\n",
      "8000/9146\n",
      "(232, 7)\n",
      "9000/9146\n",
      "(346, 7)\n",
      "finished finding closest hits to predictions\n"
     ]
    }
   ],
   "source": [
    "## for each prediction, find the closest hit to it ##\n",
    "next_hits = []\n",
    "counter = 0\n",
    "for guess in y:    \n",
    "    xHit = guess[0]\n",
    "    yHit = guess[1]\n",
    "    zHit = guess[2]\n",
    "    i = int(n * ((xHit - xMin) / xRange))\n",
    "    j = int(n * ((yHit - yMin) / yRange))\n",
    "    k = int(n * ((zHit - zMin) / zRange))\n",
    "    \n",
    "    possible_nearest_hits = scan_voxels_for_hits(voxels, n, i, j, k)\n",
    "    next_hit = find_nearest_hit(possible_nearest_hits, guess)\n",
    "    next_hits.append(next_hit)\n",
    "    if (counter % 1000) == 0:\n",
    "        print(str(counter) + \"/\" + str(len(y)))\n",
    "        print(possible_nearest_hits.shape)\n",
    "    counter += 1\n",
    "\n",
    "print(\"finished finding closest hits to predictions\")"
   ]
  },
  {
   "cell_type": "code",
   "execution_count": 63,
   "metadata": {},
   "outputs": [
    {
     "name": "stdout",
     "output_type": "stream",
     "text": [
      "5446 / 7842  seeds found with 9146 predicted.\n",
      "recall 0.6944656975261413\n",
      "precision 0.5954515635250383\n"
     ]
    }
   ],
   "source": [
    "true_seed_ids = []\n",
    "for track in true_tracks:\n",
    "    true_seed_ids.append(track[0][0])\n",
    "\n",
    "seed_ids = []\n",
    "for seed_hit in seed_hits:\n",
    "    seed_ids.append(seed_hit[0])\n",
    "\n",
    "found_seeds = np.isin(seed_ids, true_seed_ids)\n",
    "num_seeds_found = np.count_nonzero(found_seeds)\n",
    "num_seeds_guessed = len(seed_hits)\n",
    "num_real_seeds = len(true_seed_ids)\n",
    "\n",
    "print(num_seeds_found, \"/\", num_real_seeds, \" seeds found with\", num_seeds_guessed, \"predicted.\")\n",
    "print(\"recall\", num_seeds_found / num_real_seeds)\n",
    "print(\"precision\", num_seeds_found / num_seeds_guessed)"
   ]
  },
  {
   "cell_type": "code",
   "execution_count": null,
   "metadata": {
    "collapsed": true
   },
   "outputs": [],
   "source": []
  }
 ],
 "metadata": {
  "kernelspec": {
   "display_name": "Python 3",
   "language": "python",
   "name": "python3"
  },
  "language_info": {
   "codemirror_mode": {
    "name": "ipython",
    "version": 3
   },
   "file_extension": ".py",
   "mimetype": "text/x-python",
   "name": "python",
   "nbconvert_exporter": "python",
   "pygments_lexer": "ipython3",
   "version": "3.6.5"
  }
 },
 "nbformat": 4,
 "nbformat_minor": 2
}
